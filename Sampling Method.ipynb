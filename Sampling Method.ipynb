{
 "cells": [
  {
   "cell_type": "code",
   "execution_count": null,
   "metadata": {},
   "outputs": [],
   "source": [
    "import glob\n",
    "import cv2\n",
    "import os\n",
    "import numpy as np"
   ]
  },
  {
   "cell_type": "code",
   "execution_count": null,
   "metadata": {},
   "outputs": [],
   "source": [
    "train_masks = []\n",
    "index = 0\n",
    "for directory_path in glob.glob(\"cropped_masks/train\"):\n",
    "    for mask_path in glob.glob(os.path.join(directory_path, \"*.jpg\")):\n",
    "        mask = cv2.imread(mask_path, cv2.IMREAD_GRAYSCALE)\n",
    "        mask[mask <= 15] = 0\n",
    "        mask[mask >= 200] = 255\n",
    "        train_masks.append(mask)\n",
    "        \n",
    "train_masks = np.array(train_masks)"
   ]
  },
  {
   "cell_type": "code",
   "execution_count": null,
   "metadata": {},
   "outputs": [],
   "source": [
    "left_list = []\n",
    "right_list = []\n",
    "top_list = []\n",
    "bottom_list = []\n",
    "index = 0\n",
    "r_indexes = []\n",
    "\n",
    "for img in train_masks:\n",
    "    a, b = np.unique(img, return_counts = True)\n",
    "    threshold = b[0]/ b[1]\n",
    "\n",
    "    if threshold >= 3:\n",
    "        left = -10\n",
    "        right = 0\n",
    "\n",
    "        for j in range(img.shape[1]):\n",
    "            if np.any(img[:, j] >= 255):\n",
    "                if left < 0:\n",
    "                    left = j\n",
    "                else:\n",
    "                    right = j\n",
    "\n",
    "        left_list.append(left)\n",
    "        right_list.append(right)\n",
    "\n",
    "        top = -10\n",
    "        bottom = 0\n",
    "\n",
    "        for j in range(img.shape[0]):\n",
    "            if np.any(img[j, :] >= 255):\n",
    "                if top < 0:\n",
    "                    top = j\n",
    "                else:\n",
    "                    bottom = j\n",
    "\n",
    "        top_list.append(top)\n",
    "        bottom_list.append(bottom)\n",
    "\n",
    "    else:\n",
    "        r_indexes.append(index)\n",
    "    index += 1"
   ]
  },
  {
   "cell_type": "code",
   "execution_count": null,
   "metadata": {},
   "outputs": [],
   "source": [
    "len(r_indexes)"
   ]
  },
  {
   "cell_type": "code",
   "execution_count": null,
   "metadata": {},
   "outputs": [],
   "source": [
    "train_masks = np.delete(train_masks, r_indexes, axis = 0)\n",
    "train_masks.shape"
   ]
  },
  {
   "cell_type": "code",
   "execution_count": null,
   "metadata": {},
   "outputs": [],
   "source": [
    "left_list = np.array(left_list)"
   ]
  },
  {
   "cell_type": "code",
   "execution_count": null,
   "metadata": {},
   "outputs": [],
   "source": [
    "for i in range(len(left_list)):\n",
    "    if left_list[i] - 20 > 0:\n",
    "        left_list[i] -= 20\n",
    "    else:\n",
    "        if left_list[i] - 10 > 0:\n",
    "            left_list[i] -= 10"
   ]
  },
  {
   "cell_type": "code",
   "execution_count": null,
   "metadata": {},
   "outputs": [],
   "source": [
    "for i in range(len(right_list)):\n",
    "    if right_list[i] + 20 < 512:\n",
    "        right_list[i] += 20\n",
    "    else:\n",
    "        if right_list[i] + 10 < 512:\n",
    "            right_list[i] += 10"
   ]
  },
  {
   "cell_type": "code",
   "execution_count": null,
   "metadata": {},
   "outputs": [],
   "source": [
    "for i in range(len(top_list)):\n",
    "    if top_list[i] - 20 > 0:\n",
    "        top_list[i] -= 20\n",
    "    else:\n",
    "        if top_list[i] - 10 > 0:\n",
    "            top_list[i] -= 10"
   ]
  },
  {
   "cell_type": "code",
   "execution_count": null,
   "metadata": {},
   "outputs": [],
   "source": [
    "for i in range(len(bottom_list)):\n",
    "    if bottom_list[i] + 20 < 512:\n",
    "        bottom_list[i] += 20\n",
    "    else:\n",
    "        if bottom_list[i] + 10 < 512:\n",
    "                bottom_list[i] += 10"
   ]
  },
  {
   "cell_type": "code",
   "execution_count": null,
   "metadata": {},
   "outputs": [],
   "source": [
    "i = 0\n",
    "\n",
    "for img in train_masks:\n",
    "    test = img[top_list[i]:bottom_list[i], left_list[i]:right_list[i]]\n",
    "    tmp_image_name = f\"{i}.jpg\"\n",
    "    image_path = os.path.join('new_data\\mask', tmp_image_name)\n",
    "    cv2.imwrite(image_path, test)\n",
    "    i += 1"
   ]
  },
  {
   "cell_type": "code",
   "execution_count": null,
   "metadata": {},
   "outputs": [],
   "source": [
    "#Capture training image info as a list\n",
    "train_images = []\n",
    "\n",
    "for directory_path in glob.glob(\"cropped_images/train\"):\n",
    "    for img_path in glob.glob(os.path.join(directory_path, \"*.jpg\")):\n",
    "        img = cv2.imread(img_path, 1)\n",
    "        train_images.append(img)\n",
    "       \n",
    "train_images = np.array(train_images)"
   ]
  },
  {
   "cell_type": "code",
   "execution_count": null,
   "metadata": {},
   "outputs": [],
   "source": [
    "train_images = np.delete(train_images, r_indexes, axis = 0)\n",
    "train_images.shape"
   ]
  },
  {
   "cell_type": "code",
   "execution_count": null,
   "metadata": {},
   "outputs": [],
   "source": [
    "i = 0\n",
    "\n",
    "for img in train_images:\n",
    "    test = img[top_list[i]:bottom_list[i], left_list[i]:right_list[i]]\n",
    "    tmp_image_name = f\"{i}.jpg\"\n",
    "    image_path = os.path.join('new_data\\image', tmp_image_name)\n",
    "    cv2.imwrite(image_path, test)\n",
    "    i += 1"
   ]
  },
  {
   "cell_type": "code",
   "execution_count": null,
   "metadata": {},
   "outputs": [],
   "source": []
  }
 ],
 "metadata": {
  "language_info": {
   "name": "python"
  }
 },
 "nbformat": 4,
 "nbformat_minor": 2
}
